{
 "cells": [
  {
   "cell_type": "markdown",
   "metadata": {},
   "source": [
    "# Identify population-enriched genes, plot heatmap"
   ]
  },
  {
   "cell_type": "markdown",
   "metadata": {},
   "source": [
    "### Import scanpy"
   ]
  },
  {
   "cell_type": "code",
   "execution_count": 1,
   "metadata": {},
   "outputs": [],
   "source": [
    "import scanpy as sc\n",
    "import scanpy.external as sce\n",
    "import os,sys\n",
    "import datetime\n",
    "import numpy as np\n",
    "import pandas as pd\n",
    "import matplotlib.pyplot as plt\n",
    "import math\n",
    "import matplotlib.ticker as mticker"
   ]
  },
  {
   "cell_type": "code",
   "execution_count": 2,
   "metadata": {
    "scrolled": true
   },
   "outputs": [
    {
     "name": "stdout",
     "output_type": "stream",
     "text": [
      "python version: 3.9.19\n"
     ]
    }
   ],
   "source": [
    "# add the utility function folder to PATH\n",
    "sys.path.append(os.path.abspath(\"utility_functions_190403_12h24/\"))\n",
    "\n",
    "from rz_import_statements import *\n",
    "import rz_functions as rz\n",
    "import rz_fig_params # this adjust mpl.rcParams, almost nothing to import, import after scanpy to overwrite rc.Params\n",
    "import rz_utility_spring as srz"
   ]
  },
  {
   "cell_type": "code",
   "execution_count": 3,
   "metadata": {},
   "outputs": [],
   "source": [
    "import warnings\n",
    "warnings.filterwarnings( \"ignore\")"
   ]
  },
  {
   "cell_type": "code",
   "execution_count": 4,
   "metadata": {},
   "outputs": [],
   "source": [
    "import matplotlib as mpl\n",
    "mpl.rc('font',family='Arial')\n",
    "mpl.rcParams['pdf.fonttype'] = 42\n",
    "mpl.rcParams['ps.fonttype'] = 42"
   ]
  },
  {
   "cell_type": "markdown",
   "metadata": {},
   "source": [
    "# Load data \n"
   ]
  },
  {
   "cell_type": "code",
   "execution_count": 22,
   "metadata": {},
   "outputs": [],
   "source": [
    "adata = sc.read_h5ad('AML/data/AML_prec_only_206_2167x2000_250123_12h07.h5ad')    "
   ]
  },
  {
   "cell_type": "code",
   "execution_count": 23,
   "metadata": {},
   "outputs": [],
   "source": [
    "# overwrite obs with the most recent version\n",
    "filename = 'backups/AML_prec_only_206_clust__obs_info_2167x68_250123_16h50.npz'\n",
    "encoding = 'latin1'\n",
    "\n",
    "with np.load(filename,encoding=encoding, allow_pickle = True) as f:\n",
    "    obs = pd.DataFrame(**f)\n",
    "adata.obs = obs"
   ]
  },
  {
   "cell_type": "code",
   "execution_count": 24,
   "metadata": {},
   "outputs": [
    {
     "data": {
      "text/plain": [
       "matrix([[ 459.4988  ],\n",
       "        [ 337.34085 ],\n",
       "        [-479.11826 ],\n",
       "        ...,\n",
       "        [-292.71057 ],\n",
       "        [ 257.36533 ],\n",
       "        [ -41.697548]], dtype=float32)"
      ]
     },
     "execution_count": 24,
     "metadata": {},
     "output_type": "execute_result"
    }
   ],
   "source": [
    "\n",
    "adata.X.sum(axis=1)"
   ]
  },
  {
   "cell_type": "code",
   "execution_count": 25,
   "metadata": {},
   "outputs": [],
   "source": [
    "adata_raw = sc.read_h5ad('AML/data/bb2_bb3_leiden_2.5_sub_DGE_refined_annotation_86447x37733_241107_10h51.h5ad')"
   ]
  },
  {
   "cell_type": "code",
   "execution_count": 26,
   "metadata": {},
   "outputs": [
    {
     "data": {
      "text/plain": [
       "Index(['MIR1302-2HG', 'FAM138A', 'OR4F5', 'ENSG00000238009', 'ENSG00000239945',\n",
       "       'ENSG00000239906', 'ENSG00000241860', 'ENSG00000241599',\n",
       "       'ENSG00000286448', 'ENSG00000236601',\n",
       "       ...\n",
       "       'ENSG00000275249', 'ENSG00000274792', 'ENSG00000274175',\n",
       "       'ENSG00000275869', 'ENSG00000273554', 'ENSG00000277836',\n",
       "       'ENSG00000278633', 'ENSG00000276017', 'ENSG00000278817',\n",
       "       'ENSG00000277196'],\n",
       "      dtype='object', length=37733)"
      ]
     },
     "execution_count": 26,
     "metadata": {},
     "output_type": "execute_result"
    }
   ],
   "source": [
    "adata_raw.var_names"
   ]
  },
  {
   "cell_type": "code",
   "execution_count": 27,
   "metadata": {},
   "outputs": [],
   "source": [
    "adata.var_names_make_unique(join='_')"
   ]
  },
  {
   "cell_type": "code",
   "execution_count": 28,
   "metadata": {},
   "outputs": [],
   "source": [
    "adata_raw.obs['unique_id'] = adata_raw.obs['barcode'].astype(str)+'_' + adata_raw.obs['library'].astype(str)"
   ]
  },
  {
   "cell_type": "code",
   "execution_count": 29,
   "metadata": {},
   "outputs": [],
   "source": [
    "bdata = adata_raw[adata.obs.index, :].copy()"
   ]
  },
  {
   "cell_type": "code",
   "execution_count": 30,
   "metadata": {},
   "outputs": [],
   "source": [
    "bdata.obsm = adata.obsm\n",
    "bdata.uns = adata.uns\n",
    "bdata.obsp = adata.obsp\n",
    "bdata.obs = adata.obs"
   ]
  },
  {
   "cell_type": "code",
   "execution_count": 32,
   "metadata": {},
   "outputs": [],
   "source": [
    "bdata.X = adata_raw[adata.obs.index, :].layers['counts']"
   ]
  },
  {
   "cell_type": "code",
   "execution_count": 33,
   "metadata": {},
   "outputs": [
    {
     "data": {
      "text/plain": [
       "matrix([[9507.],\n",
       "        [6196.],\n",
       "        [ 607.],\n",
       "        ...,\n",
       "        [2547.],\n",
       "        [5027.],\n",
       "        [1663.]], dtype=float32)"
      ]
     },
     "execution_count": 33,
     "metadata": {},
     "output_type": "execute_result"
    }
   ],
   "source": [
    "bdata.X.sum(axis=1)"
   ]
  },
  {
   "cell_type": "markdown",
   "metadata": {},
   "source": [
    "### Scale (normalize) data"
   ]
  },
  {
   "cell_type": "code",
   "execution_count": 34,
   "metadata": {},
   "outputs": [],
   "source": [
    "adata = bdata"
   ]
  },
  {
   "cell_type": "code",
   "execution_count": 35,
   "metadata": {},
   "outputs": [
    {
     "data": {
      "text/plain": [
       "matrix([[9507.],\n",
       "        [6196.],\n",
       "        [ 607.],\n",
       "        ...,\n",
       "        [2547.],\n",
       "        [5027.],\n",
       "        [1663.]], dtype=float32)"
      ]
     },
     "execution_count": 35,
     "metadata": {},
     "output_type": "execute_result"
    }
   ],
   "source": [
    "adata.X.sum(axis=1)"
   ]
  },
  {
   "cell_type": "code",
   "execution_count": 36,
   "metadata": {
    "scrolled": true
   },
   "outputs": [
    {
     "name": "stdout",
     "output_type": "stream",
     "text": [
      "[[9507.]\n",
      " [6196.]\n",
      " [ 607.]\n",
      " [ 521.]\n",
      " [2938.]]\n",
      "\n",
      "[[10000.   ]\n",
      " [10000.001]\n",
      " [10000.   ]\n",
      " [10000.001]\n",
      " [ 9999.999]]\n"
     ]
    }
   ],
   "source": [
    "# turn into counts per 10k\n",
    "print(adata.X[:5,:].sum(axis=1))\n",
    "print()\n",
    "sc.pp.normalize_per_cell(adata, counts_per_cell_after=1e4)\n",
    "print(adata.X[:5,:].sum(axis=1))"
   ]
  },
  {
   "cell_type": "markdown",
   "metadata": {},
   "source": [
    "# Get enriched genes"
   ]
  },
  {
   "cell_type": "code",
   "execution_count": 37,
   "metadata": {},
   "outputs": [
    {
     "name": "stdout",
     "output_type": "stream",
     "text": [
      "2167\n"
     ]
    }
   ],
   "source": [
    "#taking all cells\n",
    "\n",
    "cmask = np.repeat(True,adata.shape[0])\n",
    "print(cmask.sum())"
   ]
  },
  {
   "cell_type": "code",
   "execution_count": 38,
   "metadata": {},
   "outputs": [
    {
     "name": "stdout",
     "output_type": "stream",
     "text": [
      "louvain_resolution_0.5\n",
      "louvain_resolution_1.0\n",
      "louvain_resolution_1.5\n",
      "louvain_resolution_1.7\n",
      "louvain_resolution_1.8\n",
      "louvain_resolution_2.0\n",
      "louvain_resolution_2.5\n",
      "louvain_resolution_3.0\n",
      "louvain_resolution_0.1\n",
      "louvain_resolution_0.2\n",
      "louvain_resolution_0.3\n"
     ]
    }
   ],
   "source": [
    "for i in adata.obs:\n",
    "    if i.startswith('louv'):\n",
    "        print (i)"
   ]
  },
  {
   "cell_type": "code",
   "execution_count": 39,
   "metadata": {},
   "outputs": [],
   "source": [
    "# get centroids\n",
    "thelabel = 'louvain_resolution_0.5'\n",
    "centroids = rz.centroids(thelabel,adata[cmask])"
   ]
  },
  {
   "cell_type": "code",
   "execution_count": 40,
   "metadata": {},
   "outputs": [],
   "source": [
    "# For each cluster, find genes that are statistically significantly higher or lower in cluster x compared to\n",
    "# all other cells collectively\n",
    "\n",
    "#label-free filter to remove very low abundance genes:\n",
    "min_counts = 10\n",
    "min_cells = 10"
   ]
  },
  {
   "cell_type": "code",
   "execution_count": 41,
   "metadata": {},
   "outputs": [
    {
     "name": "stdout",
     "output_type": "stream",
     "text": [
      "6281 genes passing abundance filter\n"
     ]
    }
   ],
   "source": [
    "gmask = srz.filter_abund_genes(adata.X[cmask], min_counts, min_cells)"
   ]
  },
  {
   "cell_type": "code",
   "execution_count": 42,
   "metadata": {},
   "outputs": [
    {
     "name": "stdout",
     "output_type": "stream",
     "text": [
      "1000\n",
      "2000\n",
      "3000\n",
      "4000\n",
      "5000\n",
      "6000\n",
      "1/8\n",
      "1 done 2167\n",
      "1000\n",
      "2000\n",
      "3000\n",
      "4000\n",
      "5000\n",
      "6000\n",
      "2/8\n",
      "0 done 2167\n",
      "1000\n",
      "2000\n",
      "3000\n",
      "4000\n",
      "5000\n",
      "6000\n",
      "3/8\n",
      "4 done 2167\n",
      "1000\n",
      "2000\n",
      "3000\n",
      "4000\n",
      "5000\n",
      "6000\n",
      "4/8\n",
      "3 done 2167\n",
      "1000\n",
      "2000\n",
      "3000\n",
      "4000\n",
      "5000\n",
      "6000\n",
      "5/8\n",
      "5 done 2167\n",
      "1000\n",
      "2000\n",
      "3000\n",
      "4000\n",
      "5000\n",
      "6000\n",
      "6/8\n",
      "6 done 2167\n",
      "1000\n",
      "2000\n",
      "3000\n",
      "4000\n",
      "5000\n",
      "6000\n",
      "7/8\n",
      "2 done 2167\n",
      "1000\n",
      "2000\n",
      "3000\n",
      "4000\n",
      "5000\n",
      "6000\n",
      "8/8\n",
      "7 done 2167\n",
      "23.534971237182617\n",
      "backups/AML_precursors_cluster_vs_rest_MWU_result_dict_250123_17h12louvain_resolution_0.5\n"
     ]
    }
   ],
   "source": [
    "mwu_dict = {}\n",
    "start=time.time()\n",
    "counter=0\n",
    "\n",
    "meta = adata[cmask].obs\n",
    "E = adata[cmask].X\n",
    "gene_list = adata.var_names\n",
    "\n",
    "\n",
    "for cluster in meta[thelabel].unique():\n",
    "    counter+=1\n",
    "    mask1 = (meta[thelabel]==cluster).values\n",
    "    mask2 = mask1==False\n",
    "    \n",
    "    cg1 = np.array(E[:,gmask][mask1,:].todense())\n",
    "    cg2 = np.array(E[:,gmask][mask2,:].todense())\n",
    "    mwu_dict[cluster] = rz.mwu(cg1,cg2,genes=gene_list[gmask],print_progression=True)\n",
    "    print(\"%d/%d\"%(counter,len(meta[thelabel].unique())))\n",
    "    print(cluster, 'done',cg1.shape[0]+cg2.shape[0])\n",
    "print(time.time()-start)\n",
    "\n",
    "fname = 'backups/AML_precursors_cluster_vs_rest_MWU_result_dict_%s%s'%(rz.now(), thelabel)\n",
    "print(fname)\n",
    "rz.save_stuff(mwu_dict,fname)"
   ]
  },
  {
   "cell_type": "code",
   "execution_count": 43,
   "metadata": {},
   "outputs": [],
   "source": [
    "# select pseudovalue to add\n",
    "pseudo = 1 # 1 counts per 10k"
   ]
  },
  {
   "cell_type": "code",
   "execution_count": 45,
   "metadata": {},
   "outputs": [
    {
     "name": "stdout",
     "output_type": "stream",
     "text": [
      "louvain_resolution_0.5\n"
     ]
    }
   ],
   "source": [
    "print(thelabel)\n",
    "fcdict = rz.get_fc_to_all_other(\n",
    "        lab = thelabel,\n",
    "        meta = adata[cmask].obs,\n",
    "        E = adata[cmask].X,\n",
    "        pseudo = pseudo,\n",
    "        gene_list = adata.var_names,\n",
    "        )"
   ]
  },
  {
   "cell_type": "code",
   "execution_count": 46,
   "metadata": {},
   "outputs": [
    {
     "name": "stdout",
     "output_type": "stream",
     "text": [
      "6281\n",
      "1 5379 5379\n",
      "0 6265 6265\n",
      "4 3053 3053\n",
      "3 5268 5268\n",
      "5 3501 3501\n",
      "6 2959 2959\n",
      "2 5031 5031\n",
      "7 2486 2486\n"
     ]
    }
   ],
   "source": [
    "# leave only genes with a significant difference.\n",
    "fcdictsig = {}\n",
    "\n",
    "# before the mwu test, I prefiltered genes on abundance, apply this mask here as well\n",
    "print(gmask.sum())\n",
    "for key,value in fcdict.items():\n",
    "    sigmask = (mwu_dict[key]['fdr']<0.05).values\n",
    "    fcdictsig[key] = value[gmask][sigmask]\n",
    "    print(key,sigmask.sum(),len(fcdictsig[key]))"
   ]
  },
  {
   "cell_type": "code",
   "execution_count": 47,
   "metadata": {},
   "outputs": [
    {
     "data": {
      "text/plain": [
       "1_FC    1.690333\n",
       "0_FC    1.278354\n",
       "4_FC    2.668712\n",
       "3_FC    1.637339\n",
       "5_FC    3.020667\n",
       "6_FC    2.132533\n",
       "2_FC    2.352082\n",
       "7_FC    3.216939\n",
       "dtype: float32"
      ]
     },
     "execution_count": 47,
     "metadata": {},
     "output_type": "execute_result"
    }
   ],
   "source": [
    "# nr genes to consider:\n",
    "upto = 50 \n",
    "\n",
    "\n",
    "frame = {}\n",
    "for key,value in fcdictsig.items():\n",
    "    s = value.sort_values(ascending=False)[:upto]\n",
    "    key2 = str(key)+'_FC'\n",
    "    frame[str(key)] = s.index\n",
    "    frame[key2] = s.values\n",
    "frame = pd.DataFrame(frame)\n",
    "frame[[i for i in frame.columns if \"FC\" in i]].min() #ok, all above 1."
   ]
  },
  {
   "cell_type": "code",
   "execution_count": 48,
   "metadata": {},
   "outputs": [],
   "source": [
    "outdir = 'outputs/'"
   ]
  },
  {
   "cell_type": "code",
   "execution_count": 49,
   "metadata": {},
   "outputs": [
    {
     "name": "stdout",
     "output_type": "stream",
     "text": [
      "outputs/AML_precursors_louvain05_lists_enriched_genes_top_50_louvain_resolution_0.5_250123_17h13.xlsx\n"
     ]
    }
   ],
   "source": [
    "fname = outdir+'AML_precursors_louvain05_lists_enriched_genes_top_%d_%s_%s.xlsx'%(upto,thelabel,rz.now())\n",
    "print(fname)\n",
    "frame.to_excel(fname)"
   ]
  },
  {
   "cell_type": "code",
   "execution_count": 50,
   "metadata": {},
   "outputs": [],
   "source": [
    "clnames = sorted(fcdictsig.keys())\n",
    "\n"
   ]
  },
  {
   "cell_type": "code",
   "execution_count": 52,
   "metadata": {},
   "outputs": [
    {
     "name": "stdout",
     "output_type": "stream",
     "text": [
      "400\n",
      "368\n",
      "dict_keys(['data', 'row_link', 'col_link'])\n"
     ]
    }
   ],
   "source": [
    "# select only columns with gene names:\n",
    "genes = frame[clnames].values.flatten()\n",
    "print(len(genes))\n",
    "\n",
    "# I anticipate some genes to be repeated\n",
    "genes = rz.oset(genes)\n",
    "print(len(genes))\n",
    "\n",
    "# select centroids expression data\n",
    "heat = centroids[genes].copy()\n",
    "\n",
    "# transform:\n",
    "heat = heat + pseudo\n",
    "heat = heat/heat.median()\n",
    "heat = np.log2(heat)\n",
    "\n",
    "#transpose\n",
    "heat = heat.T\n",
    "\n",
    "#hierarchically cluster\n",
    "import scipy.cluster\n",
    "hierdict = rz.hier_cluster(heat,method='average',metric='correlation')\n",
    "\n",
    "print(hierdict.keys())\n",
    "\n",
    "heat = hierdict['data']"
   ]
  },
  {
   "cell_type": "markdown",
   "metadata": {},
   "source": [
    "### Heatmap"
   ]
  },
  {
   "cell_type": "code",
   "execution_count": 54,
   "metadata": {},
   "outputs": [],
   "source": [
    "heat2 = heat"
   ]
  },
  {
   "cell_type": "code",
   "execution_count": 55,
   "metadata": {},
   "outputs": [
    {
     "data": {
      "text/html": [
       "<div>\n",
       "<style scoped>\n",
       "    .dataframe tbody tr th:only-of-type {\n",
       "        vertical-align: middle;\n",
       "    }\n",
       "\n",
       "    .dataframe tbody tr th {\n",
       "        vertical-align: top;\n",
       "    }\n",
       "\n",
       "    .dataframe thead th {\n",
       "        text-align: right;\n",
       "    }\n",
       "</style>\n",
       "<table border=\"1\" class=\"dataframe\">\n",
       "  <thead>\n",
       "    <tr style=\"text-align: right;\">\n",
       "      <th></th>\n",
       "      <th>6</th>\n",
       "      <th>2</th>\n",
       "      <th>5</th>\n",
       "      <th>7</th>\n",
       "      <th>4</th>\n",
       "      <th>0</th>\n",
       "      <th>1</th>\n",
       "      <th>3</th>\n",
       "    </tr>\n",
       "  </thead>\n",
       "  <tbody>\n",
       "    <tr>\n",
       "      <th>SYNE1</th>\n",
       "      <td>-1.578016</td>\n",
       "      <td>-1.938938</td>\n",
       "      <td>0.089188</td>\n",
       "      <td>-0.562210</td>\n",
       "      <td>1.202768</td>\n",
       "      <td>-0.095067</td>\n",
       "      <td>0.377228</td>\n",
       "      <td>0.982375</td>\n",
       "    </tr>\n",
       "    <tr>\n",
       "      <th>ATP8A1</th>\n",
       "      <td>-1.771098</td>\n",
       "      <td>-1.274490</td>\n",
       "      <td>-0.017929</td>\n",
       "      <td>0.017708</td>\n",
       "      <td>-0.483429</td>\n",
       "      <td>0.128686</td>\n",
       "      <td>0.738647</td>\n",
       "      <td>0.666710</td>\n",
       "    </tr>\n",
       "    <tr>\n",
       "      <th>ENSG00000278996</th>\n",
       "      <td>-0.582565</td>\n",
       "      <td>-0.077874</td>\n",
       "      <td>-0.282212</td>\n",
       "      <td>-0.521772</td>\n",
       "      <td>0.419805</td>\n",
       "      <td>0.943719</td>\n",
       "      <td>0.073885</td>\n",
       "      <td>0.671392</td>\n",
       "    </tr>\n",
       "    <tr>\n",
       "      <th>PLCG2</th>\n",
       "      <td>-0.900980</td>\n",
       "      <td>0.088066</td>\n",
       "      <td>-0.974336</td>\n",
       "      <td>-0.316761</td>\n",
       "      <td>0.388037</td>\n",
       "      <td>0.691513</td>\n",
       "      <td>-0.093793</td>\n",
       "      <td>0.599381</td>\n",
       "    </tr>\n",
       "    <tr>\n",
       "      <th>ENSG00000282885</th>\n",
       "      <td>-0.153575</td>\n",
       "      <td>-0.162012</td>\n",
       "      <td>-0.127180</td>\n",
       "      <td>-0.005572</td>\n",
       "      <td>0.415026</td>\n",
       "      <td>0.694403</td>\n",
       "      <td>0.005551</td>\n",
       "      <td>0.104840</td>\n",
       "    </tr>\n",
       "    <tr>\n",
       "      <th>...</th>\n",
       "      <td>...</td>\n",
       "      <td>...</td>\n",
       "      <td>...</td>\n",
       "      <td>...</td>\n",
       "      <td>...</td>\n",
       "      <td>...</td>\n",
       "      <td>...</td>\n",
       "      <td>...</td>\n",
       "    </tr>\n",
       "    <tr>\n",
       "      <th>CTSS</th>\n",
       "      <td>1.236522</td>\n",
       "      <td>-0.704287</td>\n",
       "      <td>-0.322725</td>\n",
       "      <td>-0.892600</td>\n",
       "      <td>1.483247</td>\n",
       "      <td>0.162655</td>\n",
       "      <td>-0.183352</td>\n",
       "      <td>0.167105</td>\n",
       "    </tr>\n",
       "    <tr>\n",
       "      <th>LTV1</th>\n",
       "      <td>0.247651</td>\n",
       "      <td>0.064994</td>\n",
       "      <td>-0.276359</td>\n",
       "      <td>0.222529</td>\n",
       "      <td>-0.284842</td>\n",
       "      <td>0.353670</td>\n",
       "      <td>-0.107839</td>\n",
       "      <td>-0.068061</td>\n",
       "    </tr>\n",
       "    <tr>\n",
       "      <th>DYNC1I2</th>\n",
       "      <td>0.032155</td>\n",
       "      <td>-0.039451</td>\n",
       "      <td>-0.404411</td>\n",
       "      <td>0.133146</td>\n",
       "      <td>-0.414674</td>\n",
       "      <td>0.283756</td>\n",
       "      <td>-0.032889</td>\n",
       "      <td>0.038535</td>\n",
       "    </tr>\n",
       "    <tr>\n",
       "      <th>SEC16A</th>\n",
       "      <td>0.101445</td>\n",
       "      <td>-0.243815</td>\n",
       "      <td>-0.141344</td>\n",
       "      <td>0.034506</td>\n",
       "      <td>-0.035352</td>\n",
       "      <td>0.441119</td>\n",
       "      <td>0.060357</td>\n",
       "      <td>-0.103063</td>\n",
       "    </tr>\n",
       "    <tr>\n",
       "      <th>RHOU</th>\n",
       "      <td>0.331857</td>\n",
       "      <td>-0.237527</td>\n",
       "      <td>-0.147318</td>\n",
       "      <td>-0.260715</td>\n",
       "      <td>0.172843</td>\n",
       "      <td>0.373348</td>\n",
       "      <td>0.122144</td>\n",
       "      <td>-0.133450</td>\n",
       "    </tr>\n",
       "  </tbody>\n",
       "</table>\n",
       "<p>368 rows × 8 columns</p>\n",
       "</div>"
      ],
      "text/plain": [
       "                        6         2         5         7         4         0  \\\n",
       "SYNE1           -1.578016 -1.938938  0.089188 -0.562210  1.202768 -0.095067   \n",
       "ATP8A1          -1.771098 -1.274490 -0.017929  0.017708 -0.483429  0.128686   \n",
       "ENSG00000278996 -0.582565 -0.077874 -0.282212 -0.521772  0.419805  0.943719   \n",
       "PLCG2           -0.900980  0.088066 -0.974336 -0.316761  0.388037  0.691513   \n",
       "ENSG00000282885 -0.153575 -0.162012 -0.127180 -0.005572  0.415026  0.694403   \n",
       "...                   ...       ...       ...       ...       ...       ...   \n",
       "CTSS             1.236522 -0.704287 -0.322725 -0.892600  1.483247  0.162655   \n",
       "LTV1             0.247651  0.064994 -0.276359  0.222529 -0.284842  0.353670   \n",
       "DYNC1I2          0.032155 -0.039451 -0.404411  0.133146 -0.414674  0.283756   \n",
       "SEC16A           0.101445 -0.243815 -0.141344  0.034506 -0.035352  0.441119   \n",
       "RHOU             0.331857 -0.237527 -0.147318 -0.260715  0.172843  0.373348   \n",
       "\n",
       "                        1         3  \n",
       "SYNE1            0.377228  0.982375  \n",
       "ATP8A1           0.738647  0.666710  \n",
       "ENSG00000278996  0.073885  0.671392  \n",
       "PLCG2           -0.093793  0.599381  \n",
       "ENSG00000282885  0.005551  0.104840  \n",
       "...                   ...       ...  \n",
       "CTSS            -0.183352  0.167105  \n",
       "LTV1            -0.107839 -0.068061  \n",
       "DYNC1I2         -0.032889  0.038535  \n",
       "SEC16A           0.060357 -0.103063  \n",
       "RHOU             0.122144 -0.133450  \n",
       "\n",
       "[368 rows x 8 columns]"
      ]
     },
     "execution_count": 55,
     "metadata": {},
     "output_type": "execute_result"
    }
   ],
   "source": [
    "heat2"
   ]
  },
  {
   "cell_type": "code",
   "execution_count": 62,
   "metadata": {
    "scrolled": true,
    "tags": []
   },
   "outputs": [
    {
     "name": "stdout",
     "output_type": "stream",
     "text": [
      "-5.05862 6.300272\n",
      "AML_heatmap_louvain_resolution_0.5_upto_50_250127_10h07\n"
     ]
    },
    {
     "data": {
      "image/png": "[encoded data removed]",
      "text/plain": [
       "<Figure size 275.591x1771.65 with 2 Axes>"
      ]
     },
     "metadata": {},
     "output_type": "display_data"
    }
   ],
   "source": [
    "#a,fig,gs = rz.startfig(1+heat.shape[1]/3.,4+heat.shape[0]/40.,frameon=False)\n",
    "a,fig,gs = rz.startfig(7,45,frameon=False)\n",
    "\n",
    "\n",
    "\n",
    "\n",
    "cmap = 'RdBu_r'\n",
    "cbarlabel = 'log2[(cp10k+1)/(cp10k+1)median]'\n",
    "\n",
    "vmin=-3\n",
    "vmax=3\n",
    "print(heat.min().min(),heat.max().max())\n",
    "\n",
    "# heatmap\n",
    "hmap = a.imshow(heat,aspect='auto',vmin=vmin,vmax=vmax,cmap=cmap)\n",
    "\n",
    "# x ticks\n",
    "a.set_xticks(np.arange(heat.shape[1]))\n",
    "a.set_xticklabels(heat.columns,rotation=270)\n",
    "a.xaxis.tick_top()\n",
    "\n",
    "# y ticks\n",
    "#rz.yticks_fancy(a,totick,labels_all = heat.index)\n",
    "\n",
    "a.set_yticks(np.arange(heat.shape[0]))\n",
    "a.set_yticklabels(heat.index,fontsize=4)\n",
    "\n",
    "# colorbar\n",
    "cbar = fig.colorbar(hmap,orientation='horizontal')\n",
    "cbar.outline.set_visible(False)\n",
    "\n",
    "c = [vmin,0,vmax]\n",
    "clabs = [\"<\"+str(c[0])]+[str(i) for i in c[1:-1]]+[\">\"+str(c[-1])]\n",
    "cbar.set_ticks(c)\n",
    "cbar.set_ticklabels(clabs)\n",
    "cbar.set_label(cbarlabel)\n",
    "\n",
    "\n",
    "gs.tight_layout(fig)\n",
    "fname = 'AML_heatmap_%s_upto_%d_%s'%(thelabel,upto,rz.now())\n",
    "print(fname)\n",
    "#plt.savefig(outdir+'%s.pdf'%fname,dpi=600)\n",
    "plt.savefig(outdir+'%s.png'%fname,dpi=600)"
   ]
  },
  {
   "cell_type": "code",
   "execution_count": 65,
   "metadata": {},
   "outputs": [
    {
     "name": "stdout",
     "output_type": "stream",
     "text": [
      "outputs/AML_prec_only_dendrogram_louvain_resolution_0.5_250127_10h07.pdf\n"
     ]
    },
    {
     "data": {
      "image/png": "[encoded data removed]",
      "text/plain": [
       "<Figure size 393.701x157.48 with 1 Axes>"
      ]
     },
     "metadata": {},
     "output_type": "display_data"
    }
   ],
   "source": [
    "a,fig,gs = rz.startfig(10,4)\n",
    "col_link = hierdict['col_link']\n",
    "dendro = scipy.cluster.hierarchy.dendrogram(\n",
    "                                 col_link, orientation='top', ax=a,\n",
    "                                 above_threshold_color='0.5',\n",
    "                                 color_threshold = 0,\n",
    "                                    )\n",
    "\n",
    "a.set_xticklabels(heat2.columns,rotation=270,fontsize=5)\n",
    "a.set_yticks([])\n",
    "\n",
    "rz.showspines(a)\n",
    "\n",
    "gs.tight_layout(fig)\n",
    "fname = str(outdir) + 'AML_prec_only_dendrogram_%s_%s.pdf'%(thelabel,rz.now())\n",
    "print(fname)\n",
    "plt.savefig(fname)"
   ]
  }
 ],
 "metadata": {
  "kernelspec": {
   "display_name": "Python 3",
   "language": "python",
   "name": "python3"
  },
  "language_info": {
   "codemirror_mode": {
    "name": "ipython",
    "version": 3
   },
   "file_extension": ".py",
   "mimetype": "text/x-python",
   "name": "python",
   "nbconvert_exporter": "python",
   "pygments_lexer": "ipython3",
   "version": "3.8.12"
  }
 },
 "nbformat": 4,
 "nbformat_minor": 4
}
