{
 "cells": [
  {
   "cell_type": "markdown",
   "metadata": {},
   "source": [
    "# Import"
   ]
  },
  {
   "cell_type": "code",
   "execution_count": 1,
   "metadata": {
    "tags": []
   },
   "outputs": [],
   "source": [
    "import os,sys\n",
    "import datetime\n",
    "\n",
    "#import time\n",
    "import pandas as pd\n",
    "import numpy as np\n",
    "\n",
    "import scrublet as scr\n",
    "import scipy.io\n",
    "\n",
    "import anndata as ad\n",
    "\n",
    "import matplotlib.pyplot as plt\n",
    "%matplotlib inline"
   ]
  },
  {
   "cell_type": "code",
   "execution_count": 2,
   "metadata": {
    "scrolled": true,
    "tags": []
   },
   "outputs": [
    {
     "name": "stdout",
     "output_type": "stream",
     "text": [
      "scanpy==1.10.1 anndata==0.10.7 umap==0.5.5 numpy==1.26.4 scipy==1.13.0 pandas==2.2.2 scikit-learn==1.4.2 statsmodels==0.14.1 igraph==0.11.4 pynndescent==0.5.12\n",
      "Memory usage: current 0.27 GB, difference +0.27 GB\n"
     ]
    }
   ],
   "source": [
    "import scanpy as sc\n",
    "sc.logging.print_header()\n",
    "sc.logging.print_memory_usage()\n",
    "sc.settings.verbosity = 2"
   ]
  },
  {
   "cell_type": "code",
   "execution_count": 3,
   "metadata": {
    "tags": []
   },
   "outputs": [],
   "source": [
    "# add the utility functions folder to PATH\n",
    "sys.path.append(os.path.abspath(\"../packages\"))\n",
    "from db_dev.helper import *\n",
    "\n",
    "plt.rcParams['figure.dpi']= 150"
   ]
  },
  {
   "cell_type": "markdown",
   "metadata": {},
   "source": [
    "### Load data"
   ]
  },
  {
   "cell_type": "code",
   "execution_count": 4,
   "metadata": {
    "tags": []
   },
   "outputs": [
    {
     "name": "stdout",
     "output_type": "stream",
     "text": [
      "220.66591715812683\n",
      "353.5845251083374\n"
     ]
    }
   ],
   "source": [
    "home_dir = os.path.expanduser(\"~\")\n",
    "start = time.time()\n",
    "adata_bb2 = sc.read_h5ad(home_dir+\"/NAS/data/240523_VH00558_558_AACJ2FKHV_trimmed_tso_PE/adatas/mito_total_counts_filt_doublet_75328x37733_240530_14h42.h5ad\")\n",
    "print(time.time()-start)\n",
    "\n",
    "adata_bb3 = sc.read_h5ad(home_dir+\"/NAS/data/240703_VH00531_542_AACH75CHV_trimmed_tso_PE/adatas/mito_total_counts_filt_doublet_36242x37733_240710_09h29.h5ad\")\n",
    "print(time.time()-start)"
   ]
  },
  {
   "cell_type": "code",
   "execution_count": 5,
   "metadata": {},
   "outputs": [
    {
     "name": "stderr",
     "output_type": "stream",
     "text": [
      "/Users/denis/mambaforge/envs/capseq_seurat_v3/lib/python3.12/site-packages/anndata/_core/anndata.py:1818: UserWarning: Observation names are not unique. To make them unique, call `.obs_names_make_unique`.\n",
      "  utils.warn_names_duplicates(\"obs\")\n"
     ]
    }
   ],
   "source": [
    "# adata concat\n",
    "adata = ad.concat([adata_bb2, adata_bb3], merge = \"same\", uns_merge = \"first\")\n",
    "\n",
    "adata.obs_names = np.arange(adata.shape[0]).astype(str)"
   ]
  },
  {
   "cell_type": "markdown",
   "metadata": {},
   "source": [
    "# Save the adata object"
   ]
  },
  {
   "cell_type": "code",
   "execution_count": 7,
   "metadata": {},
   "outputs": [
    {
     "name": "stdout",
     "output_type": "stream",
     "text": [
      "/Users/denis/NAS/data/240523_240703/adatas/bb2_bb3_mito_total_counts_filt_doublet_111570x37733_240710_10h50.h5ad\n",
      "135.83797574043274\n",
      "/Users/denis/NAS/data/240523_240703/adatas/bb2_bb3_obs_info_doublet_111570x18_240710_10h53\n",
      "136.83042097091675\n"
     ]
    }
   ],
   "source": [
    "# directory\n",
    "#!mkdir -p backups\n",
    "\n",
    "# write the entire adata.object\n",
    "start = time.time()\n",
    "fname1 = home_dir+\"/NAS/data/240523_240703/adatas/bb2_bb3_mito_total_counts_filt_doublet_%dx%d_%s.h5ad\"%(adata.shape[0],adata.shape[1],now())\n",
    "print(fname1)\n",
    "adata.write(fname1)\n",
    "print(time.time()-start)\n",
    "\n",
    "\n",
    "\n",
    "\n",
    "# write the pandas dataframe under adata.obs as a separate file\n",
    "meta = adata.obs\n",
    "fname2 = home_dir+\"/NAS/data/240523_240703/adatas/bb2_bb3_obs_info_doublet_%dx%d_%s\"%(meta.shape[0],meta.shape[1],now())\n",
    "print(fname2)\n",
    "save_df(meta,fname2)\n",
    "print(time.time()-start)"
   ]
  }
 ],
 "metadata": {
  "kernelspec": {
   "display_name": "Python 3 (ipykernel)",
   "language": "python",
   "name": "python3"
  },
  "language_info": {
   "codemirror_mode": {
    "name": "ipython",
    "version": 3
   },
   "file_extension": ".py",
   "mimetype": "text/x-python",
   "name": "python",
   "nbconvert_exporter": "python",
   "pygments_lexer": "ipython3",
   "version": "3.12.3"
  }
 },
 "nbformat": 4,
 "nbformat_minor": 4
}
